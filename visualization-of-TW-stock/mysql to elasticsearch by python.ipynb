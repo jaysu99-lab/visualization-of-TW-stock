{
 "cells": [
  {
   "cell_type": "code",
   "execution_count": null,
   "metadata": {},
   "outputs": [],
   "source": [
    "import sys, json, pymysql\n",
    "from elasticsearch import Elasticsearch\n",
    "import datetime\n",
    "import pandas as pd\n",
    "es = Elasticsearch('http://192.168.15.128:9200')\n",
    "db = pymysql.connect(host='your host',port=3306,user='your user name',passwd='password',db='Project_test')\n",
    "cur = db.cursor()\n",
    "sql = 'select * from daily_trade_tw where stockiid=1101;'\n",
    "a = cur.execute(sql)\n",
    "Data = [i for i in cur.fetchall()]\n",
    "b = pd.DataFrame(Data)\n",
    "b=b.rename(columns={0:'stockiid',1:'date',2:'open',3:'high',4:'low',5:'close',6:'volume'})\n",
    "for i in range(len(b)):\n",
    "#     print(b['stockiid'][i],b['date'][i],b['open'][i],b['high'][i],b['low'][i],b['close'][i],b['volume'][i])\n",
    "    \n",
    "    test = {\"stockiid\": b['stockiid'][i], \"date\": b['date'][i], \"open\": b['open'][i], \"high\": b['high'][i] , \"low\":b['low'][i] , \"close\":b['close'][i] , \"volume\":b['volume'][i]}\n",
    "    res = es.index(index='daily_trade_tw2', doc_type='elk', body=test)\n",
    "    print(res['result'])"
   ]
  }
 ],
 "metadata": {
  "kernelspec": {
   "display_name": "Python 3",
   "language": "python",
   "name": "python3"
  },
  "language_info": {
   "codemirror_mode": {
    "name": "ipython",
    "version": 3
   },
   "file_extension": ".py",
   "mimetype": "text/x-python",
   "name": "python",
   "nbconvert_exporter": "python",
   "pygments_lexer": "ipython3",
   "version": "3.8.3"
  }
 },
 "nbformat": 4,
 "nbformat_minor": 4
}
